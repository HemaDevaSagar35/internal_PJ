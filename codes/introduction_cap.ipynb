{
 "cells": [
  {
   "cell_type": "code",
   "execution_count": 1,
   "metadata": {},
   "outputs": [],
   "source": [
    "import pandas as pd\n",
    "import numpy as np\n",
    "import random\n",
    "import matplotlib.pyplot as plt\n",
    "from datetime import datetime, timedelta\n",
    "from sklearn.linear_model import LogisticRegression, LinearRegression\n",
    "%matplotlib inline"
   ]
  },
  {
   "cell_type": "markdown",
   "metadata": {},
   "source": [
    "## functions"
   ]
  },
  {
   "cell_type": "code",
   "execution_count": 2,
   "metadata": {},
   "outputs": [],
   "source": [
    "def Metric_Comp(predict, true):\n",
    "    error = predict - true\n",
    "    error = np.absolute(error)\n",
    "    error = error/true\n",
    "    error = np.mean(error)\n",
    "    return 1 - error"
   ]
  },
  {
   "cell_type": "code",
   "execution_count": 3,
   "metadata": {},
   "outputs": [],
   "source": [
    "def train_predict(model, X, Y, X_Vali):\n",
    "    model_fitted = model.fit(X,Y)\n",
    "    Y_vali = model_fitted.predict(X_vali)\n",
    "    return model_fitted, Y_vali"
   ]
  },
  {
   "cell_type": "code",
   "execution_count": 4,
   "metadata": {},
   "outputs": [],
   "source": [
    "def test_predict(model, X_test):\n",
    "    Y_test = model.predict(X_test)\n",
    "    return Y_test"
   ]
  },
  {
   "cell_type": "markdown",
   "metadata": {},
   "source": [
    "## preliminary analysis"
   ]
  },
  {
   "cell_type": "code",
   "execution_count": 5,
   "metadata": {},
   "outputs": [],
   "source": [
    "train_data = pd.read_csv('..\\\\..\\\\Bitcoint_Data\\\\train_timeseries.csv')"
   ]
  },
  {
   "cell_type": "code",
   "execution_count": 6,
   "metadata": {},
   "outputs": [],
   "source": [
    "train_data['date'] = pd.to_datetime(train_data['date'])"
   ]
  },
  {
   "cell_type": "code",
   "execution_count": 7,
   "metadata": {},
   "outputs": [
    {
     "data": {
      "text/html": [
       "<div>\n",
       "<style scoped>\n",
       "    .dataframe tbody tr th:only-of-type {\n",
       "        vertical-align: middle;\n",
       "    }\n",
       "\n",
       "    .dataframe tbody tr th {\n",
       "        vertical-align: top;\n",
       "    }\n",
       "\n",
       "    .dataframe thead th {\n",
       "        text-align: right;\n",
       "    }\n",
       "</style>\n",
       "<table border=\"1\" class=\"dataframe\">\n",
       "  <thead>\n",
       "    <tr style=\"text-align: right;\">\n",
       "      <th></th>\n",
       "      <th>date</th>\n",
       "      <th>open</th>\n",
       "      <th>high</th>\n",
       "      <th>low</th>\n",
       "      <th>close</th>\n",
       "      <th>market_cap</th>\n",
       "      <th>avg_block_size</th>\n",
       "      <th>blocks_size</th>\n",
       "      <th>cost_per_transaction_percent</th>\n",
       "      <th>cost_per_transaction</th>\n",
       "      <th>...</th>\n",
       "      <th>transactions_per_sec_min</th>\n",
       "      <th>transactions_per_sec_max</th>\n",
       "      <th>utxo_count_mean</th>\n",
       "      <th>utxo_count_stddev</th>\n",
       "      <th>utxo_count_min</th>\n",
       "      <th>utxo_count_max</th>\n",
       "      <th>news_stories_total</th>\n",
       "      <th>news_stories_positive</th>\n",
       "      <th>news_stories_negative</th>\n",
       "      <th>news_stories_neutral</th>\n",
       "    </tr>\n",
       "  </thead>\n",
       "  <tbody>\n",
       "    <tr>\n",
       "      <th>0</th>\n",
       "      <td>2018-11-30</td>\n",
       "      <td>4289.09</td>\n",
       "      <td>4322.98</td>\n",
       "      <td>3942.82</td>\n",
       "      <td>4017.27</td>\n",
       "      <td>6.990464e+10</td>\n",
       "      <td>1.209791</td>\n",
       "      <td>192791.5434</td>\n",
       "      <td>0.328777</td>\n",
       "      <td>21.396147</td>\n",
       "      <td>...</td>\n",
       "      <td>1.183333</td>\n",
       "      <td>17.700000</td>\n",
       "      <td>58319967.38</td>\n",
       "      <td>27106.89859</td>\n",
       "      <td>58281148</td>\n",
       "      <td>58355400</td>\n",
       "      <td>1071</td>\n",
       "      <td>356</td>\n",
       "      <td>549</td>\n",
       "      <td>166</td>\n",
       "    </tr>\n",
       "    <tr>\n",
       "      <th>1</th>\n",
       "      <td>2018-11-29</td>\n",
       "      <td>4269.00</td>\n",
       "      <td>4413.02</td>\n",
       "      <td>4145.77</td>\n",
       "      <td>4278.85</td>\n",
       "      <td>7.445102e+10</td>\n",
       "      <td>1.202130</td>\n",
       "      <td>192669.3545</td>\n",
       "      <td>0.625105</td>\n",
       "      <td>23.508462</td>\n",
       "      <td>...</td>\n",
       "      <td>1.283333</td>\n",
       "      <td>27.916667</td>\n",
       "      <td>58252488.42</td>\n",
       "      <td>15831.47820</td>\n",
       "      <td>58212951</td>\n",
       "      <td>58269350</td>\n",
       "      <td>1096</td>\n",
       "      <td>389</td>\n",
       "      <td>521</td>\n",
       "      <td>186</td>\n",
       "    </tr>\n",
       "    <tr>\n",
       "      <th>2</th>\n",
       "      <td>2018-11-28</td>\n",
       "      <td>3822.47</td>\n",
       "      <td>4385.90</td>\n",
       "      <td>3822.47</td>\n",
       "      <td>4257.42</td>\n",
       "      <td>7.407256e+10</td>\n",
       "      <td>1.111968</td>\n",
       "      <td>192543.1309</td>\n",
       "      <td>0.762892</td>\n",
       "      <td>24.411103</td>\n",
       "      <td>...</td>\n",
       "      <td>0.433333</td>\n",
       "      <td>33.850000</td>\n",
       "      <td>58186459.38</td>\n",
       "      <td>13193.95528</td>\n",
       "      <td>58165046</td>\n",
       "      <td>58213488</td>\n",
       "      <td>1187</td>\n",
       "      <td>409</td>\n",
       "      <td>583</td>\n",
       "      <td>195</td>\n",
       "    </tr>\n",
       "    <tr>\n",
       "      <th>3</th>\n",
       "      <td>2018-11-27</td>\n",
       "      <td>3765.95</td>\n",
       "      <td>3862.96</td>\n",
       "      <td>3661.01</td>\n",
       "      <td>3820.72</td>\n",
       "      <td>6.646897e+10</td>\n",
       "      <td>1.071254</td>\n",
       "      <td>192411.9186</td>\n",
       "      <td>0.730799</td>\n",
       "      <td>23.399753</td>\n",
       "      <td>...</td>\n",
       "      <td>1.683333</td>\n",
       "      <td>17.083333</td>\n",
       "      <td>58159562.88</td>\n",
       "      <td>9943.16102</td>\n",
       "      <td>58132945</td>\n",
       "      <td>58176825</td>\n",
       "      <td>1239</td>\n",
       "      <td>424</td>\n",
       "      <td>597</td>\n",
       "      <td>218</td>\n",
       "    </tr>\n",
       "    <tr>\n",
       "      <th>4</th>\n",
       "      <td>2018-11-26</td>\n",
       "      <td>4015.07</td>\n",
       "      <td>4107.14</td>\n",
       "      <td>3643.92</td>\n",
       "      <td>3779.13</td>\n",
       "      <td>6.573929e+10</td>\n",
       "      <td>1.186164</td>\n",
       "      <td>192271.5843</td>\n",
       "      <td>0.741989</td>\n",
       "      <td>21.745022</td>\n",
       "      <td>...</td>\n",
       "      <td>1.166667</td>\n",
       "      <td>27.200000</td>\n",
       "      <td>58120822.67</td>\n",
       "      <td>13528.76274</td>\n",
       "      <td>58082636</td>\n",
       "      <td>58135200</td>\n",
       "      <td>1343</td>\n",
       "      <td>454</td>\n",
       "      <td>670</td>\n",
       "      <td>219</td>\n",
       "    </tr>\n",
       "  </tbody>\n",
       "</table>\n",
       "<p>5 rows × 51 columns</p>\n",
       "</div>"
      ],
      "text/plain": [
       "        date     open     high      low    close    market_cap  \\\n",
       "0 2018-11-30  4289.09  4322.98  3942.82  4017.27  6.990464e+10   \n",
       "1 2018-11-29  4269.00  4413.02  4145.77  4278.85  7.445102e+10   \n",
       "2 2018-11-28  3822.47  4385.90  3822.47  4257.42  7.407256e+10   \n",
       "3 2018-11-27  3765.95  3862.96  3661.01  3820.72  6.646897e+10   \n",
       "4 2018-11-26  4015.07  4107.14  3643.92  3779.13  6.573929e+10   \n",
       "\n",
       "   avg_block_size  blocks_size  cost_per_transaction_percent  \\\n",
       "0        1.209791  192791.5434                      0.328777   \n",
       "1        1.202130  192669.3545                      0.625105   \n",
       "2        1.111968  192543.1309                      0.762892   \n",
       "3        1.071254  192411.9186                      0.730799   \n",
       "4        1.186164  192271.5843                      0.741989   \n",
       "\n",
       "   cost_per_transaction          ...           transactions_per_sec_min  \\\n",
       "0             21.396147          ...                           1.183333   \n",
       "1             23.508462          ...                           1.283333   \n",
       "2             24.411103          ...                           0.433333   \n",
       "3             23.399753          ...                           1.683333   \n",
       "4             21.745022          ...                           1.166667   \n",
       "\n",
       "   transactions_per_sec_max  utxo_count_mean  utxo_count_stddev  \\\n",
       "0                 17.700000      58319967.38        27106.89859   \n",
       "1                 27.916667      58252488.42        15831.47820   \n",
       "2                 33.850000      58186459.38        13193.95528   \n",
       "3                 17.083333      58159562.88         9943.16102   \n",
       "4                 27.200000      58120822.67        13528.76274   \n",
       "\n",
       "   utxo_count_min  utxo_count_max  news_stories_total  news_stories_positive  \\\n",
       "0        58281148        58355400                1071                    356   \n",
       "1        58212951        58269350                1096                    389   \n",
       "2        58165046        58213488                1187                    409   \n",
       "3        58132945        58176825                1239                    424   \n",
       "4        58082636        58135200                1343                    454   \n",
       "\n",
       "   news_stories_negative  news_stories_neutral  \n",
       "0                    549                   166  \n",
       "1                    521                   186  \n",
       "2                    583                   195  \n",
       "3                    597                   218  \n",
       "4                    670                   219  \n",
       "\n",
       "[5 rows x 51 columns]"
      ]
     },
     "execution_count": 7,
     "metadata": {},
     "output_type": "execute_result"
    }
   ],
   "source": [
    "train_data.head()"
   ]
  },
  {
   "cell_type": "code",
   "execution_count": 24,
   "metadata": {},
   "outputs": [],
   "source": [
    "'''splitting the data into training and validation\n",
    "1. Seperate the recent 120 examples as the validation\n",
    "'''\n",
    "seper = 120\n",
    "starter = train_data.iloc[0,0]\n",
    "validation_list = [starter - timedelta(days = i) for i in range(seper)]\n",
    "validation_data = train_data[train_data['date'].isin(validation_list)].copy()\n",
    "training_data = train_data[~train_data['date'].isin(validation_list)].copy()\n",
    "\n",
    "training_data.to_csv('..\\\\..\\\\intermediate_files\\\\training_data.csv', index=None)\n",
    "validation_data.to_csv('..\\\\..\\\\intermediate_files\\\\validation_data.csv', index=None)"
   ]
  },
  {
   "cell_type": "markdown",
   "metadata": {},
   "source": [
    "## reading the files for model"
   ]
  },
  {
   "cell_type": "code",
   "execution_count": 8,
   "metadata": {},
   "outputs": [],
   "source": [
    "train_data = pd.read_csv('..\\\\..\\\\intermediate_files\\\\training_data.csv')\n",
    "validation_data = pd.read_csv('..\\\\..\\\\intermediate_files\\\\validation_data.csv')"
   ]
  },
  {
   "cell_type": "code",
   "execution_count": 9,
   "metadata": {
    "scrolled": true
   },
   "outputs": [
    {
     "data": {
      "text/plain": [
       "date                                           object\n",
       "open                                          float64\n",
       "high                                          float64\n",
       "low                                           float64\n",
       "close                                         float64\n",
       "market_cap                                    float64\n",
       "avg_block_size                                float64\n",
       "blocks_size                                   float64\n",
       "cost_per_transaction_percent                  float64\n",
       "cost_per_transaction                          float64\n",
       "difficulty                                    float64\n",
       "est_transaction_volume_USD                    float64\n",
       "est_transaction_volume                        float64\n",
       "hash_rate                                     float64\n",
       "median_confirmation_time                      float64\n",
       "miners_revenue                                float64\n",
       "n_transactions_excl_chains_longer_than_100      int64\n",
       "n_transactions_excl_popular                     int64\n",
       "n_transactions_per_block                      float64\n",
       "n_transactions                                  int64\n",
       "n_unique_addresses                              int64\n",
       "output_volume                                 float64\n",
       "total_bitcoins                                float64\n",
       "trade_volume                                  float64\n",
       "transaction_fees_USD                          float64\n",
       "transaction_fees                              float64\n",
       "mempool_count_mean                            float64\n",
       "mempool_count_stddev                          float64\n",
       "mempool_count_min                             float64\n",
       "mempool_count_max                             float64\n",
       "mempool_growth_mean                           float64\n",
       "mempool_growth_stddev                         float64\n",
       "mempool_growth_min                            float64\n",
       "mempool_growth_max                            float64\n",
       "mempool_size_mean                             float64\n",
       "mempool_size_stddev                           float64\n",
       "mempool_size_min                              float64\n",
       "mempool_size_max                              float64\n",
       "wallets_created                                 int64\n",
       "transactions_per_sec_mean                     float64\n",
       "transactions_per_sec_stddev                   float64\n",
       "transactions_per_sec_min                      float64\n",
       "transactions_per_sec_max                      float64\n",
       "utxo_count_mean                               float64\n",
       "utxo_count_stddev                             float64\n",
       "utxo_count_min                                  int64\n",
       "utxo_count_max                                  int64\n",
       "news_stories_total                              int64\n",
       "news_stories_positive                           int64\n",
       "news_stories_negative                           int64\n",
       "news_stories_neutral                            int64\n",
       "dtype: object"
      ]
     },
     "execution_count": 9,
     "metadata": {},
     "output_type": "execute_result"
    }
   ],
   "source": [
    "train_data.dtypes"
   ]
  },
  {
   "cell_type": "code",
   "execution_count": 10,
   "metadata": {},
   "outputs": [],
   "source": [
    "model_log = LinearRegression()\n",
    "X = train_data[['open','high','low']].values\n",
    "Y = train_data['close'].values\n",
    "X_vali = validation_data[['open','high','low']].values"
   ]
  },
  {
   "cell_type": "code",
   "execution_count": 11,
   "metadata": {},
   "outputs": [],
   "source": [
    "model_log, Y_vali = train_predict(model_log, X, Y, X_vali)"
   ]
  },
  {
   "cell_type": "code",
   "execution_count": 12,
   "metadata": {},
   "outputs": [],
   "source": [
    "vali_predict = model_log.predict(validation_data[['open','high','low']].values)"
   ]
  },
  {
   "cell_type": "code",
   "execution_count": 13,
   "metadata": {
    "scrolled": true
   },
   "outputs": [
    {
     "data": {
      "text/plain": [
       "array([ 4089.15070368,  4297.51941121,  4319.59550066,  3765.81951416,\n",
       "        3858.98333199,  3907.65645273,  4061.64309871,  4262.9040611 ,\n",
       "        4449.28021464,  4555.19611233,  4571.37607225,  5133.63398835,\n",
       "        5595.93677102,  5493.21633816,  5521.48489433,  5507.55479105,\n",
       "        5859.01492642,  6315.98208101,  6342.88977853,  6325.86187424,\n",
       "        6372.7424021 ,  6355.2920445 ,  6426.74793921,  6485.19586145,\n",
       "        6386.10254367,  6412.92207938,  6286.8184715 ,  6313.15769776,\n",
       "        6306.01604691,  6469.91915212,  6276.65014819,  6287.77050121,\n",
       "        6337.21412478,  6419.59567721,  6428.49450446,  6424.05137792,\n",
       "        6420.31985116,  6451.78082315,  6430.24631718,  6465.38110099,\n",
       "        6482.43411072,  6427.01564703,  6412.38942963,  6451.76414851,\n",
       "        6496.49093923,  6589.19869421,  6846.87226576,  6294.15309237,\n",
       "        6236.59869743,  6262.23149567,  6331.98393777,  6519.88013698,\n",
       "        6571.18988623,  6593.81361997,  6556.44791832,  6539.61170035,\n",
       "        6548.26891065,  6534.87031754,  6451.79341277,  6516.52987111,\n",
       "        6548.22489424,  6556.74108204,  6505.84414241,  6669.68969092,\n",
       "        6620.26650415,  6485.69246599,  6416.37824286,  6579.36084895,\n",
       "        6678.50378647,  6679.05711269,  6705.75538875,  6458.81179768,\n",
       "        6291.76590556,  6309.71332889,  6332.98418414,  6438.40760701,\n",
       "        6487.3966996 ,  6495.83676286,  6464.10694244,  6271.79711911,\n",
       "        6294.48647696,  6305.59617817,  6361.56606689,  6321.40366768,\n",
       "        6417.39325356,  6494.42928956,  6997.80038331,  7306.21089946,\n",
       "        7205.3924276 ,  7197.71091391,  7158.83264363,  6954.85774196,\n",
       "        6886.10452441,  6975.85588281,  7025.4294053 ,  6798.15225114,\n",
       "        6633.76136139,  6710.27772019,  6617.75237842,  6475.40035242,\n",
       "        6637.03636382,  6427.47496882,  6359.36835903,  6435.70153129,\n",
       "        6423.91009555,  6498.92510978,  6393.00450366,  6507.79787542,\n",
       "        6051.11931508,  6400.47966746,  6316.74031011,  6338.22861452,\n",
       "        6277.50767427,  6515.3238545 ,  6391.2016061 ,  6951.05912118,\n",
       "        6995.88475209,  6980.09626768,  7167.83809569,  7358.02640222])"
      ]
     },
     "execution_count": 13,
     "metadata": {},
     "output_type": "execute_result"
    }
   ],
   "source": [
    "vali_predict"
   ]
  },
  {
   "cell_type": "code",
   "execution_count": 14,
   "metadata": {
    "scrolled": true
   },
   "outputs": [
    {
     "data": {
      "text/plain": [
       "array([ 4089.15070368,  4297.51941121,  4319.59550066,  3765.81951416,\n",
       "        3858.98333199,  3907.65645273,  4061.64309871,  4262.9040611 ,\n",
       "        4449.28021464,  4555.19611233,  4571.37607225,  5133.63398835,\n",
       "        5595.93677102,  5493.21633816,  5521.48489433,  5507.55479105,\n",
       "        5859.01492642,  6315.98208101,  6342.88977853,  6325.86187424,\n",
       "        6372.7424021 ,  6355.2920445 ,  6426.74793921,  6485.19586145,\n",
       "        6386.10254367,  6412.92207938,  6286.8184715 ,  6313.15769776,\n",
       "        6306.01604691,  6469.91915212,  6276.65014819,  6287.77050121,\n",
       "        6337.21412478,  6419.59567721,  6428.49450446,  6424.05137792,\n",
       "        6420.31985116,  6451.78082315,  6430.24631718,  6465.38110099,\n",
       "        6482.43411072,  6427.01564703,  6412.38942963,  6451.76414851,\n",
       "        6496.49093923,  6589.19869421,  6846.87226576,  6294.15309237,\n",
       "        6236.59869743,  6262.23149567,  6331.98393777,  6519.88013698,\n",
       "        6571.18988623,  6593.81361997,  6556.44791832,  6539.61170035,\n",
       "        6548.26891065,  6534.87031754,  6451.79341277,  6516.52987111,\n",
       "        6548.22489424,  6556.74108204,  6505.84414241,  6669.68969092,\n",
       "        6620.26650415,  6485.69246599,  6416.37824286,  6579.36084895,\n",
       "        6678.50378647,  6679.05711269,  6705.75538875,  6458.81179768,\n",
       "        6291.76590556,  6309.71332889,  6332.98418414,  6438.40760701,\n",
       "        6487.3966996 ,  6495.83676286,  6464.10694244,  6271.79711911,\n",
       "        6294.48647696,  6305.59617817,  6361.56606689,  6321.40366768,\n",
       "        6417.39325356,  6494.42928956,  6997.80038331,  7306.21089946,\n",
       "        7205.3924276 ,  7197.71091391,  7158.83264363,  6954.85774196,\n",
       "        6886.10452441,  6975.85588281,  7025.4294053 ,  6798.15225114,\n",
       "        6633.76136139,  6710.27772019,  6617.75237842,  6475.40035242,\n",
       "        6637.03636382,  6427.47496882,  6359.36835903,  6435.70153129,\n",
       "        6423.91009555,  6498.92510978,  6393.00450366,  6507.79787542,\n",
       "        6051.11931508,  6400.47966746,  6316.74031011,  6338.22861452,\n",
       "        6277.50767427,  6515.3238545 ,  6391.2016061 ,  6951.05912118,\n",
       "        6995.88475209,  6980.09626768,  7167.83809569,  7358.02640222])"
      ]
     },
     "execution_count": 14,
     "metadata": {},
     "output_type": "execute_result"
    }
   ],
   "source": [
    "Y_vali"
   ]
  },
  {
   "cell_type": "code",
   "execution_count": 15,
   "metadata": {
    "scrolled": true
   },
   "outputs": [
    {
     "data": {
      "text/plain": [
       "0.98889694364628367"
      ]
     },
     "execution_count": 15,
     "metadata": {},
     "output_type": "execute_result"
    }
   ],
   "source": [
    "Metric_Comp(Y_vali, validation_data['close'].values)"
   ]
  },
  {
   "cell_type": "markdown",
   "metadata": {},
   "source": [
    "## Test prediction"
   ]
  },
  {
   "cell_type": "code",
   "execution_count": 16,
   "metadata": {},
   "outputs": [],
   "source": [
    "test_data = pd.read_csv('..\\\\..\\\\Bitcoint_Data\\\\test_timeseries.csv')"
   ]
  },
  {
   "cell_type": "code",
   "execution_count": 17,
   "metadata": {},
   "outputs": [],
   "source": [
    "Y_test = test_predict(model_log, test_data[['open','high','low']].values)"
   ]
  },
  {
   "cell_type": "code",
   "execution_count": 18,
   "metadata": {},
   "outputs": [],
   "source": [
    "submission = pd.DataFrame(test_data['date'].values, columns = ['date'])\n",
    "submission['close'] = Y_test"
   ]
  },
  {
   "cell_type": "code",
   "execution_count": 19,
   "metadata": {},
   "outputs": [],
   "source": [
    "submission.to_csv('..\\\\..\\\\submission\\\\1st_time.csv', index=None)"
   ]
  }
 ],
 "metadata": {
  "kernelspec": {
   "display_name": "Python 3",
   "language": "python",
   "name": "python3"
  },
  "language_info": {
   "codemirror_mode": {
    "name": "ipython",
    "version": 3
   },
   "file_extension": ".py",
   "mimetype": "text/x-python",
   "name": "python",
   "nbconvert_exporter": "python",
   "pygments_lexer": "ipython3",
   "version": "3.6.4"
  }
 },
 "nbformat": 4,
 "nbformat_minor": 2
}
